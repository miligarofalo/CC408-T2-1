{
 "cells": [
  {
   "cell_type": "markdown",
   "metadata": {},
   "source": [
    "# Ciencia de datos (CC408) - Primavera 2024\n",
    "\n",
    "## Trabajo Práctico 1 - Parte 2"
   ]
  },
  {
   "cell_type": "markdown",
   "metadata": {},
   "source": [
    "### Reglas de formato y presentation\n",
    "- El trabajo debe tener una extensión máxima de 8 páginas (no se permite Apéndice). Se espera una buena redacción en la resolución del práctico.\n",
    "- El informe debe ser entregado en formato PDF, con los gráficos e imágenes en este mismo archivo.\n",
    "- Entregar el código con los comandos utilizados, identificando claramente a qué inciso corresponde cada comando."
   ]
  },
  {
   "cell_type": "markdown",
   "metadata": {
    "id": "ZEjGaa4U-c9g"
   },
   "source": [
    "### Fecha de entrega:\n",
    "Miércoles 2 de octubre a las 23:59 hs."
   ]
  },
  {
   "cell_type": "markdown",
   "metadata": {
    "id": "N9TU2y7E-c9h"
   },
   "source": [
    "### Modalidad de entrega\n",
    "- Al finalizar el trabajo práctico deben hacer un último <i>commit</i> en su repositorio de GitHub llamado “Entrega final del tp”. \n",
    "- Asegurense de haber creado una carpeta llamada TP1. Este Jupyter Notebook y el correspondiente al TP1 - Parte 2 deben estar dentro de esa carpeta.\n",
    "- También deben enviar el link de su repositorio -para que pueda ser clonado y corregido- al siguiente email: ispiousas@udesa.edu.ar\n",
    "- La última versión en el repositorio es la que será evaluada. Por lo que es importante que: \n",
    "    - No envien el correo hasta no haber terminado y estar seguros de que han hecho el <i>commit y push</i> a la versión final que quieren entregar. Debido a que se pueden tomar hasta 3 días de extensión a lo largo del curso, no se corregirán sus tareas hasta no recibir el correo.\n",
    "    - No hagan nuevos <i>push</i> despues de haber entregado su versión final. Esto generaría confusión acerca de que versión es la que quieren que se les corrija. "
   ]
  },
  {
   "cell_type": "markdown",
   "metadata": {},
   "source": [
    "### Parte I: Limpieza de la base"
   ]
  },
  {
   "cell_type": "markdown",
   "metadata": {
    "id": "ZXbrPraa-c9i"
   },
   "source": [
    "#### Ejercicio 1\n",
    "La base de datos provista contiene información sobre oferentes de Airbnb en la ciudad de Nueva York. Realicen una limpieza de la base.\n",
    "- Tengan en cuenta si hay valores duplicados y eliminénlos.\n",
    "- Eliminen las columnas que no tienen información de interés.\n",
    "- (Opcional) Luego de leer el artículo __[Missing-data imputation](https://bookdown.org/mike/data_analysis/imputation-missing-data.html##imputation-missing-data)__ (__[Missing-data imputation articulo alternativo](http://www.stat.columbia.edu/~gelman/arm/missing.pdf)__), decidan qué hacer con los missing values e implementen su decision. Justifiquen su eleccion. Pueden usar informacion del paper mencionado o de otras fuentes (citenlas si las usan) para explicar los problemas que pueden surgir por su estrategia elegida.\n",
    "- Si hay observaciones con *outliers* o valores que no tienen sentido, tomen una decision. Expliquen las decisiones tomadas.\n",
    "- Transformen las variables **‘neighbourhood_group’** y **‘room_type’** a variables numericas.\n",
    "- Con la ayuda de los comandos <code>groupby</code> y <code>join</code> o <code>merge</code>, creen una columna que tenga la cantidad de oferentes por “Neighbourhood group”. Llamen a esa nueva columna <code>offer group</code>"
   ]
  },
  {
   "cell_type": "code",
   "execution_count": 46,
   "metadata": {},
   "outputs": [
    {
     "data": {
      "text/html": [
       "<div>\n",
       "<style scoped>\n",
       "    .dataframe tbody tr th:only-of-type {\n",
       "        vertical-align: middle;\n",
       "    }\n",
       "\n",
       "    .dataframe tbody tr th {\n",
       "        vertical-align: top;\n",
       "    }\n",
       "\n",
       "    .dataframe thead th {\n",
       "        text-align: right;\n",
       "    }\n",
       "</style>\n",
       "<table border=\"1\" class=\"dataframe\">\n",
       "  <thead>\n",
       "    <tr style=\"text-align: right;\">\n",
       "      <th></th>\n",
       "      <th>neighbourhood_group</th>\n",
       "      <th>latitude</th>\n",
       "      <th>longitude</th>\n",
       "      <th>room_type</th>\n",
       "      <th>price</th>\n",
       "      <th>minimum_nights</th>\n",
       "      <th>number_of_reviews</th>\n",
       "      <th>reviews_per_month</th>\n",
       "      <th>calculated_host_listings_count</th>\n",
       "      <th>availability_365</th>\n",
       "    </tr>\n",
       "  </thead>\n",
       "  <tbody>\n",
       "    <tr>\n",
       "      <th>0</th>\n",
       "      <td>Brooklyn</td>\n",
       "      <td>40.64749</td>\n",
       "      <td>-73.97237</td>\n",
       "      <td>Private room</td>\n",
       "      <td>149.0</td>\n",
       "      <td>1</td>\n",
       "      <td>9</td>\n",
       "      <td>0.21</td>\n",
       "      <td>6</td>\n",
       "      <td>365</td>\n",
       "    </tr>\n",
       "    <tr>\n",
       "      <th>1</th>\n",
       "      <td>Manhattan</td>\n",
       "      <td>40.75362</td>\n",
       "      <td>-73.98377</td>\n",
       "      <td>Entire home/apt</td>\n",
       "      <td>225.0</td>\n",
       "      <td>1</td>\n",
       "      <td>45</td>\n",
       "      <td>0.38</td>\n",
       "      <td>2</td>\n",
       "      <td>355</td>\n",
       "    </tr>\n",
       "    <tr>\n",
       "      <th>2</th>\n",
       "      <td>Manhattan</td>\n",
       "      <td>40.80902</td>\n",
       "      <td>-73.94190</td>\n",
       "      <td>Private room</td>\n",
       "      <td>150.0</td>\n",
       "      <td>3</td>\n",
       "      <td>0</td>\n",
       "      <td>NaN</td>\n",
       "      <td>1</td>\n",
       "      <td>365</td>\n",
       "    </tr>\n",
       "  </tbody>\n",
       "</table>\n",
       "</div>"
      ],
      "text/plain": [
       "  neighbourhood_group  latitude  longitude        room_type  price  \\\n",
       "0            Brooklyn  40.64749  -73.97237     Private room  149.0   \n",
       "1           Manhattan  40.75362  -73.98377  Entire home/apt  225.0   \n",
       "2           Manhattan  40.80902  -73.94190     Private room  150.0   \n",
       "\n",
       "   minimum_nights  number_of_reviews  reviews_per_month  \\\n",
       "0               1                  9               0.21   \n",
       "1               1                 45               0.38   \n",
       "2               3                  0                NaN   \n",
       "\n",
       "   calculated_host_listings_count  availability_365  \n",
       "0                               6               365  \n",
       "1                               2               355  \n",
       "2                               1               365  "
      ]
     },
     "execution_count": 46,
     "metadata": {},
     "output_type": "execute_result"
    }
   ],
   "source": [
    "# Resolver acá\n",
    "import pandas as pd\n",
    "import os # Exportamos este módulo para trabajar con carpetas\n",
    "import csv\n",
    "\n",
    "base_dir = os.getcwd() # Construye la ruta relativa al archivo CSV desde el directorio actual\n",
    "csv_path = os.path.join(base_dir, 'Base Airbnb NY.csv')\n",
    "\n",
    "df_airbnb = pd.read_csv(csv_path)\n",
    "df_airbnb\n",
    "\n",
    "df_airbnb=df_airbnb.drop(columns=['id', 'name', 'host_id', 'host_name', 'neighbourhood', 'last_review'])\n",
    "df_airbnb.head(3)"
   ]
  },
  {
   "cell_type": "code",
   "execution_count": 4,
   "metadata": {},
   "outputs": [
    {
     "name": "stdout",
     "output_type": "stream",
     "text": [
      "neighbourhood_group                   0\n",
      "latitude                              0\n",
      "longitude                             0\n",
      "room_type                             0\n",
      "price                                15\n",
      "minimum_nights                        0\n",
      "number_of_reviews                     0\n",
      "reviews_per_month                 10053\n",
      "calculated_host_listings_count        0\n",
      "availability_365                      0\n",
      "dtype: int64\n",
      "neighbourhood_group               0\n",
      "latitude                          0\n",
      "longitude                         0\n",
      "room_type                         0\n",
      "price                             0\n",
      "minimum_nights                    0\n",
      "number_of_reviews                 0\n",
      "reviews_per_month                 0\n",
      "calculated_host_listings_count    0\n",
      "availability_365                  0\n",
      "dtype: int64\n"
     ]
    }
   ],
   "source": [
    "print(df_airbnb.isnull().sum())\n",
    "\n",
    "df_airbnb.fillna(df_airbnb.select_dtypes(include=['number']).median(), inplace=True) #Reemplazamos datos nulos con la mediana\n",
    "print(df_airbnb.isnull().sum())"
   ]
  },
  {
   "cell_type": "code",
   "execution_count": 12,
   "metadata": {},
   "outputs": [
    {
     "name": "stdout",
     "output_type": "stream",
     "text": [
      "Mapping de 'neighbourhood_group': {0: 0, 1: 1, 2: 2, 3: 3, 4: 4}\n",
      "Mapping de 'room_type': {0: 0, 1: 1, 2: 2}\n"
     ]
    }
   ],
   "source": [
    "# CAMBIO DE VARIABLE A NUMERICA (HAY QUE VER PORQUE NO VA A FUNCIONAR LA ORDINALIDAD\n",
    "neighbourhood_mapping = {neighbourhood: idx for idx, neighbourhood in enumerate(df_airbnb['neighbourhood_group'].unique())}\n",
    "df_airbnb['neighbourhood_group'] = df_airbnb['neighbourhood_group'].map(neighbourhood_mapping)\n",
    "\n",
    "# Mapeo manual para 'room_type'\n",
    "room_mapping = {room_type: idx for idx, room_type in enumerate(df_airbnb['room_type'].unique())}\n",
    "df_airbnb['room_type'] = df_airbnb['room_type'].map(room_mapping)\n",
    "\n",
    "# Mostrar los mapeos\n",
    "print(\"Mapping de 'neighbourhood_group':\", neighbourhood_mapping)\n",
    "print(\"Mapping de 'room_type':\", room_mapping)"
   ]
  },
  {
   "cell_type": "code",
   "execution_count": 14,
   "metadata": {},
   "outputs": [
    {
     "ename": "NameError",
     "evalue": "name 'outliers_multiple_indices' is not defined",
     "output_type": "error",
     "traceback": [
      "\u001b[1;31m---------------------------------------------------------------------------\u001b[0m",
      "\u001b[1;31mNameError\u001b[0m                                 Traceback (most recent call last)",
      "Cell \u001b[1;32mIn[14], line 3\u001b[0m\n\u001b[0;32m      1\u001b[0m \u001b[38;5;66;03m# SI SACAMOS OUTLIERS DIRECTAMENTE (HAY QUE VER SI LOS SACAMOS O LO DEJAMOS)\u001b[39;00m\n\u001b[1;32m----> 3\u001b[0m df_airbnb_cleaned \u001b[38;5;241m=\u001b[39m df_airbnb[\u001b[38;5;241m~\u001b[39mdf_airbnb\u001b[38;5;241m.\u001b[39mindex\u001b[38;5;241m.\u001b[39misin(outliers_multiple_indices)]\n\u001b[0;32m      5\u001b[0m \u001b[38;5;66;03m# Verificar el tamaño del nuevo DataFrame\u001b[39;00m\n\u001b[0;32m      6\u001b[0m \u001b[38;5;28mprint\u001b[39m(\u001b[38;5;124mf\u001b[39m\u001b[38;5;124m\"\u001b[39m\u001b[38;5;124mNúmero de filas después de eliminar outliers: \u001b[39m\u001b[38;5;132;01m{\u001b[39;00mdf_airbnb_cleaned\u001b[38;5;241m.\u001b[39mshape[\u001b[38;5;241m0\u001b[39m]\u001b[38;5;132;01m}\u001b[39;00m\u001b[38;5;124m\"\u001b[39m)\n",
      "\u001b[1;31mNameError\u001b[0m: name 'outliers_multiple_indices' is not defined"
     ]
    }
   ],
   "source": [
    "# SI SACAMOS OUTLIERS DIRECTAMENTE (HAY QUE VER SI LOS SACAMOS O LO DEJAMOS)\n",
    "\n",
    "df_airbnb_cleaned = df_airbnb[~df_airbnb.index.isin(outliers_multiple_indices)]\n",
    "\n",
    "# Verificar el tamaño del nuevo DataFrame\n",
    "print(f\"Número de filas después de eliminar outliers: {df_airbnb_cleaned.shape[0]}\")"
   ]
  },
  {
   "cell_type": "code",
   "execution_count": 16,
   "metadata": {},
   "outputs": [
    {
     "ename": "KeyError",
     "evalue": "\"['offer_group'] not in index\"",
     "output_type": "error",
     "traceback": [
      "\u001b[1;31m---------------------------------------------------------------------------\u001b[0m",
      "\u001b[1;31mKeyError\u001b[0m                                  Traceback (most recent call last)",
      "Cell \u001b[1;32mIn[16], line 9\u001b[0m\n\u001b[0;32m      6\u001b[0m df_airbnb \u001b[38;5;241m=\u001b[39m df_airbnb\u001b[38;5;241m.\u001b[39mmerge(offer_counts, on\u001b[38;5;241m=\u001b[39m\u001b[38;5;124m'\u001b[39m\u001b[38;5;124mneighbourhood_group\u001b[39m\u001b[38;5;124m'\u001b[39m, how\u001b[38;5;241m=\u001b[39m\u001b[38;5;124m'\u001b[39m\u001b[38;5;124mleft\u001b[39m\u001b[38;5;124m'\u001b[39m)\n\u001b[0;32m      8\u001b[0m \u001b[38;5;66;03m# Mostrar el DataFrame resultante\u001b[39;00m\n\u001b[1;32m----> 9\u001b[0m \u001b[38;5;28mprint\u001b[39m(df_airbnb[[\u001b[38;5;124m'\u001b[39m\u001b[38;5;124mneighbourhood_group\u001b[39m\u001b[38;5;124m'\u001b[39m, \u001b[38;5;124m'\u001b[39m\u001b[38;5;124moffer_group\u001b[39m\u001b[38;5;124m'\u001b[39m]]\u001b[38;5;241m.\u001b[39mhead())\n",
      "File \u001b[1;32m~\\anaconda3\\Lib\\site-packages\\pandas\\core\\frame.py:4108\u001b[0m, in \u001b[0;36mDataFrame.__getitem__\u001b[1;34m(self, key)\u001b[0m\n\u001b[0;32m   4106\u001b[0m     \u001b[38;5;28;01mif\u001b[39;00m is_iterator(key):\n\u001b[0;32m   4107\u001b[0m         key \u001b[38;5;241m=\u001b[39m \u001b[38;5;28mlist\u001b[39m(key)\n\u001b[1;32m-> 4108\u001b[0m     indexer \u001b[38;5;241m=\u001b[39m \u001b[38;5;28mself\u001b[39m\u001b[38;5;241m.\u001b[39mcolumns\u001b[38;5;241m.\u001b[39m_get_indexer_strict(key, \u001b[38;5;124m\"\u001b[39m\u001b[38;5;124mcolumns\u001b[39m\u001b[38;5;124m\"\u001b[39m)[\u001b[38;5;241m1\u001b[39m]\n\u001b[0;32m   4110\u001b[0m \u001b[38;5;66;03m# take() does not accept boolean indexers\u001b[39;00m\n\u001b[0;32m   4111\u001b[0m \u001b[38;5;28;01mif\u001b[39;00m \u001b[38;5;28mgetattr\u001b[39m(indexer, \u001b[38;5;124m\"\u001b[39m\u001b[38;5;124mdtype\u001b[39m\u001b[38;5;124m\"\u001b[39m, \u001b[38;5;28;01mNone\u001b[39;00m) \u001b[38;5;241m==\u001b[39m \u001b[38;5;28mbool\u001b[39m:\n",
      "File \u001b[1;32m~\\anaconda3\\Lib\\site-packages\\pandas\\core\\indexes\\base.py:6200\u001b[0m, in \u001b[0;36mIndex._get_indexer_strict\u001b[1;34m(self, key, axis_name)\u001b[0m\n\u001b[0;32m   6197\u001b[0m \u001b[38;5;28;01melse\u001b[39;00m:\n\u001b[0;32m   6198\u001b[0m     keyarr, indexer, new_indexer \u001b[38;5;241m=\u001b[39m \u001b[38;5;28mself\u001b[39m\u001b[38;5;241m.\u001b[39m_reindex_non_unique(keyarr)\n\u001b[1;32m-> 6200\u001b[0m \u001b[38;5;28mself\u001b[39m\u001b[38;5;241m.\u001b[39m_raise_if_missing(keyarr, indexer, axis_name)\n\u001b[0;32m   6202\u001b[0m keyarr \u001b[38;5;241m=\u001b[39m \u001b[38;5;28mself\u001b[39m\u001b[38;5;241m.\u001b[39mtake(indexer)\n\u001b[0;32m   6203\u001b[0m \u001b[38;5;28;01mif\u001b[39;00m \u001b[38;5;28misinstance\u001b[39m(key, Index):\n\u001b[0;32m   6204\u001b[0m     \u001b[38;5;66;03m# GH 42790 - Preserve name from an Index\u001b[39;00m\n",
      "File \u001b[1;32m~\\anaconda3\\Lib\\site-packages\\pandas\\core\\indexes\\base.py:6252\u001b[0m, in \u001b[0;36mIndex._raise_if_missing\u001b[1;34m(self, key, indexer, axis_name)\u001b[0m\n\u001b[0;32m   6249\u001b[0m     \u001b[38;5;28;01mraise\u001b[39;00m \u001b[38;5;167;01mKeyError\u001b[39;00m(\u001b[38;5;124mf\u001b[39m\u001b[38;5;124m\"\u001b[39m\u001b[38;5;124mNone of [\u001b[39m\u001b[38;5;132;01m{\u001b[39;00mkey\u001b[38;5;132;01m}\u001b[39;00m\u001b[38;5;124m] are in the [\u001b[39m\u001b[38;5;132;01m{\u001b[39;00maxis_name\u001b[38;5;132;01m}\u001b[39;00m\u001b[38;5;124m]\u001b[39m\u001b[38;5;124m\"\u001b[39m)\n\u001b[0;32m   6251\u001b[0m not_found \u001b[38;5;241m=\u001b[39m \u001b[38;5;28mlist\u001b[39m(ensure_index(key)[missing_mask\u001b[38;5;241m.\u001b[39mnonzero()[\u001b[38;5;241m0\u001b[39m]]\u001b[38;5;241m.\u001b[39munique())\n\u001b[1;32m-> 6252\u001b[0m \u001b[38;5;28;01mraise\u001b[39;00m \u001b[38;5;167;01mKeyError\u001b[39;00m(\u001b[38;5;124mf\u001b[39m\u001b[38;5;124m\"\u001b[39m\u001b[38;5;132;01m{\u001b[39;00mnot_found\u001b[38;5;132;01m}\u001b[39;00m\u001b[38;5;124m not in index\u001b[39m\u001b[38;5;124m\"\u001b[39m)\n",
      "\u001b[1;31mKeyError\u001b[0m: \"['offer_group'] not in index\""
     ]
    }
   ],
   "source": [
    "# Cantidad de oferentes por “Neighbourhood group”.\n",
    "\n",
    "offer_counts = df_airbnb.groupby('neighbourhood_group').size().reset_index(name='offer_group')\n",
    "\n",
    "# Paso 2: Unir los conteos al DataFrame original\n",
    "df_airbnb = df_airbnb.merge(offer_counts, on='neighbourhood_group', how='left')\n",
    "\n",
    "# Mostrar el DataFrame resultante\n",
    "print(df_airbnb[['neighbourhood_group', 'offer_group']].head())"
   ]
  },
  {
   "cell_type": "markdown",
   "metadata": {},
   "source": [
    "### Parte II: Graficos y visualizaciones"
   ]
  },
  {
   "cell_type": "markdown",
   "metadata": {},
   "source": [
    "#### Ejercicio 2\n",
    "Una vez hecha la limpieza, realicen una matriz de correlación con las siguientes variables:**‘neighbourhood group’, ‘latitude’, ‘longitude’, ‘room type’,‘price’, ‘minimum nights’, ‘number of reviews’, ‘reviews per month’,‘calculated host listings count’, ‘availability 365’.** Comenten los resultados. Utilicen alguno de los comandos disponibles en este link para graficar la matriz de correlacion.\n",
    "\n",
    "*Nota:* consideren cómo es conveniente incluir las variables que originalmente eran categóricas para poder interpretar mejor la matriz de correlación."
   ]
  },
  {
   "cell_type": "code",
   "execution_count": 18,
   "metadata": {},
   "outputs": [
    {
     "name": "stdout",
     "output_type": "stream",
     "text": [
      "                                neighbourhood_group  latitude  longitude  \\\n",
      "neighbourhood_group                        1.000000  0.532846   0.281686   \n",
      "latitude                                   0.532846  1.000000   0.084761   \n",
      "longitude                                  0.281686  0.084761   1.000000   \n",
      "room_type                                 -0.004371 -0.002694  -0.160589   \n",
      "price                                      0.002722  0.033950  -0.150008   \n",
      "minimum_nights                            -0.000739  0.024861  -0.062730   \n",
      "number_of_reviews                          0.011476 -0.015368   0.059063   \n",
      "reviews_per_month                          0.100823 -0.010139   0.145931   \n",
      "calculated_host_listings_count             0.044511  0.019514  -0.114699   \n",
      "availability_365                           0.121283 -0.010602   0.080341   \n",
      "offer_group_x                             -0.728394 -0.038169  -0.573156   \n",
      "offer_group_y                             -0.728394 -0.038169  -0.573156   \n",
      "\n",
      "                                room_type     price  minimum_nights  \\\n",
      "neighbourhood_group             -0.004371  0.002722       -0.000739   \n",
      "latitude                        -0.002694  0.033950        0.024861   \n",
      "longitude                       -0.160589 -0.150008       -0.062730   \n",
      "room_type                        1.000000  0.205997        0.066763   \n",
      "price                            0.205997  1.000000        0.042811   \n",
      "minimum_nights                   0.066763  0.042811        1.000000   \n",
      "number_of_reviews               -0.022431 -0.047965       -0.080116   \n",
      "reviews_per_month               -0.033897 -0.030624       -0.121700   \n",
      "calculated_host_listings_count   0.096958  0.057456        0.127966   \n",
      "availability_365                 0.026499  0.081578        0.143221   \n",
      "offer_group_x                    0.103663  0.109408        0.046424   \n",
      "offer_group_y                    0.103663  0.109408        0.046424   \n",
      "\n",
      "                                number_of_reviews  reviews_per_month  \\\n",
      "neighbourhood_group                      0.011476           0.100823   \n",
      "latitude                                -0.015368          -0.010139   \n",
      "longitude                                0.059063           0.145931   \n",
      "room_type                               -0.022431          -0.033897   \n",
      "price                                   -0.047965          -0.030624   \n",
      "minimum_nights                          -0.080116          -0.121700   \n",
      "number_of_reviews                        1.000000           0.549866   \n",
      "reviews_per_month                        0.549866           1.000000   \n",
      "calculated_host_listings_count          -0.072373          -0.009418   \n",
      "availability_365                         0.170132           0.183635   \n",
      "offer_group_x                           -0.043591          -0.133384   \n",
      "offer_group_y                           -0.043591          -0.133384   \n",
      "\n",
      "                                calculated_host_listings_count  \\\n",
      "neighbourhood_group                                   0.044511   \n",
      "latitude                                              0.019514   \n",
      "longitude                                            -0.114699   \n",
      "room_type                                             0.096958   \n",
      "price                                                 0.057456   \n",
      "minimum_nights                                        0.127966   \n",
      "number_of_reviews                                    -0.072373   \n",
      "reviews_per_month                                    -0.009418   \n",
      "calculated_host_listings_count                        1.000000   \n",
      "availability_365                                      0.223757   \n",
      "offer_group_x                                         0.061915   \n",
      "offer_group_y                                         0.061915   \n",
      "\n",
      "                                availability_365  offer_group_x  offer_group_y  \n",
      "neighbourhood_group                     0.121283      -0.728394      -0.728394  \n",
      "latitude                               -0.010602      -0.038169      -0.038169  \n",
      "longitude                               0.080341      -0.573156      -0.573156  \n",
      "room_type                               0.026499       0.103663       0.103663  \n",
      "price                                   0.081578       0.109408       0.109408  \n",
      "minimum_nights                          0.143221       0.046424       0.046424  \n",
      "number_of_reviews                       0.170132      -0.043591      -0.043591  \n",
      "reviews_per_month                       0.183635      -0.133384      -0.133384  \n",
      "calculated_host_listings_count          0.223757       0.061915       0.061915  \n",
      "availability_365                        1.000000      -0.113445      -0.113445  \n",
      "offer_group_x                          -0.113445       1.000000       1.000000  \n",
      "offer_group_y                          -0.113445       1.000000       1.000000  \n"
     ]
    }
   ],
   "source": [
    "# Resolver acá \n",
    "# EL PROBLEMA DE ESTE ES QUE LAS VARIABLES ANTES CATEGORICAS AHORA NUMERICAS SE ORDENAN. HAY Q EVITAR ESO\n",
    "\n",
    " # Reemplaza con tus columnas numéricas\n",
    "print(df_airbnb.corr())"
   ]
  },
  {
   "cell_type": "markdown",
   "metadata": {},
   "source": [
    "#### Ejercicio 3\n",
    "Respondan las siguientes preguntas: ¿Cuál es la proporción de oferentes por “Neighbourhood group”? ¿Y por tipo de habitación? Además, realicen gráficos para mostrar estas composiciones y comenten los resultados."
   ]
  },
  {
   "cell_type": "code",
   "execution_count": null,
   "metadata": {},
   "outputs": [],
   "source": [
    "# Resolver acá\n"
   ]
  },
  {
   "cell_type": "markdown",
   "metadata": {},
   "source": [
    "#### Ejercicio 4\n",
    "Realicen un histograma de los precios de los alojamientos. Comenten el gráfico obtenido. Además, respondan las siguientes preguntas: ¿cuál es el precio mínimo, máximo y promedio? ¿Cuál es la media de precio por “Neighbourhood group” y por tipo de habitación? "
   ]
  },
  {
   "cell_type": "code",
   "execution_count": null,
   "metadata": {},
   "outputs": [],
   "source": [
    "# Resolver acá\n"
   ]
  },
  {
   "cell_type": "markdown",
   "metadata": {},
   "source": [
    "#### Ejercicio 5\n",
    "Realicen dos scatter plots con dos variables de interés en cada uno. Comenten."
   ]
  },
  {
   "cell_type": "code",
   "execution_count": 1,
   "metadata": {},
   "outputs": [],
   "source": [
    "# Resolver acá\n"
   ]
  },
  {
   "cell_type": "markdown",
   "metadata": {},
   "source": [
    "#### Ejercicio 6\n",
    "Utilicen el análisis de componentes principales para graficar las variables en dos dimensiones. Comenten los resultados obtenidos (qué porcentaje de la varianza se logra explicar con dos componentes, cómo son los *loadings*, si ven algún patrón en el gráfico)."
   ]
  },
  {
   "cell_type": "code",
   "execution_count": 1,
   "metadata": {},
   "outputs": [],
   "source": [
    "# Resolver acá\n"
   ]
  },
  {
   "cell_type": "markdown",
   "metadata": {},
   "source": [
    "### Parte III: Predicción"
   ]
  },
  {
   "cell_type": "markdown",
   "metadata": {},
   "source": [
    "El objetivo de esta parte del trabajo es intentar predecir los precios de los alojamientos."
   ]
  },
  {
   "cell_type": "markdown",
   "metadata": {},
   "source": [
    "#### Ejercicio 7\n",
    "Eliminen de la base todas las variables relacionadas al precio"
   ]
  },
  {
   "cell_type": "code",
   "execution_count": 54,
   "metadata": {},
   "outputs": [
    {
     "name": "stdout",
     "output_type": "stream",
     "text": [
      "Outliers en la columna 'latitude':\n",
      "261      40.88057\n",
      "433      40.89747\n",
      "737      40.89557\n",
      "966      40.87991\n",
      "1010     40.57810\n",
      "           ...   \n",
      "48441    40.56506\n",
      "48516    40.57936\n",
      "48699    40.57531\n",
      "48751    40.56546\n",
      "48799    40.54179\n",
      "Name: latitude, Length: 425, dtype: float64\n",
      "\n",
      "\n",
      "Outliers en la columna 'longitude':\n",
      "143     -73.83168\n",
      "169     -74.08088\n",
      "196     -73.76597\n",
      "249     -74.08537\n",
      "250     -74.08543\n",
      "           ...   \n",
      "48847   -73.86523\n",
      "48851   -73.86591\n",
      "48858   -73.82556\n",
      "48866   -73.81448\n",
      "48889   -73.80844\n",
      "Name: longitude, Length: 2833, dtype: float64\n",
      "\n",
      "\n",
      "Outliers en la columna 'price':\n",
      "61       375.0\n",
      "85       800.0\n",
      "103      500.0\n",
      "114      350.0\n",
      "121      400.0\n",
      "         ...  \n",
      "48758    350.0\n",
      "48833    475.0\n",
      "48839    800.0\n",
      "48842    350.0\n",
      "48856    345.0\n",
      "Name: price, Length: 2972, dtype: float64\n",
      "\n",
      "\n",
      "Outliers en la columna 'minimum_nights':\n",
      "6        45\n",
      "14       90\n",
      "29       14\n",
      "36       60\n",
      "45       29\n",
      "         ..\n",
      "48810    30\n",
      "48843    29\n",
      "48871    29\n",
      "48879    20\n",
      "48882    20\n",
      "Name: minimum_nights, Length: 6607, dtype: int64\n",
      "\n",
      "\n",
      "Outliers en la columna 'number_of_reviews':\n",
      "3        270\n",
      "5         74\n",
      "7        430\n",
      "8        118\n",
      "9        160\n",
      "        ... \n",
      "40104     65\n",
      "40297     95\n",
      "40424     65\n",
      "42075    156\n",
      "42076     82\n",
      "Name: number_of_reviews, Length: 6021, dtype: int64\n",
      "\n",
      "\n",
      "Outliers en la columna 'reviews_per_month':\n",
      "471      6.70\n",
      "534      6.62\n",
      "553      7.14\n",
      "1103     5.27\n",
      "1125     5.12\n",
      "         ... \n",
      "47708    6.00\n",
      "47848    5.00\n",
      "47967    6.00\n",
      "48031    7.00\n",
      "48228    5.00\n",
      "Name: reviews_per_month, Length: 1793, dtype: float64\n",
      "\n",
      "\n",
      "Outliers en la columna 'calculated_host_listings_count':\n",
      "0        6\n",
      "9        4\n",
      "21       6\n",
      "22       6\n",
      "23       6\n",
      "        ..\n",
      "48867    6\n",
      "48868    6\n",
      "48878    5\n",
      "48893    6\n",
      "48895    4\n",
      "Name: calculated_host_listings_count, Length: 7082, dtype: int64\n",
      "\n",
      "\n",
      "Outliers en la columna 'availability_365':\n",
      "4192    -999\n",
      "10989   -999\n",
      "12752   -999\n",
      "14506   -999\n",
      "18928   -999\n",
      "24076   -999\n",
      "25557   -999\n",
      "29762   -999\n",
      "30906   -999\n",
      "32580   -999\n",
      "32971   -999\n",
      "33665   -999\n",
      "34059   -999\n",
      "37661   -999\n",
      "46760   -999\n",
      "Name: availability_365, dtype: int64\n",
      "\n",
      "\n",
      "DataFrame después de eliminar outliers:\n",
      "      neighbourhood_group  latitude  longitude        room_type  price  \\\n",
      "10              Manhattan  40.80316  -73.96545  Entire home/apt  135.0   \n",
      "20               Brooklyn  40.71842  -73.95718  Entire home/apt  299.0   \n",
      "25               Brooklyn  40.65599  -73.97519     Private room   60.0   \n",
      "48               Brooklyn  40.68554  -73.94090  Entire home/apt  115.0   \n",
      "62              Manhattan  40.77065  -73.95269  Entire home/apt  250.0   \n",
      "...                   ...       ...        ...              ...    ...   \n",
      "48899           Manhattan  40.72487  -73.98125  Entire home/apt  175.0   \n",
      "48900           Manhattan  40.76811  -73.95194  Entire home/apt  150.0   \n",
      "48901           Manhattan  40.77001  -73.94915  Entire home/apt  150.0   \n",
      "48902           Manhattan  40.74812  -73.97663  Entire home/apt  150.0   \n",
      "48903            Brooklyn  40.65595  -73.95412     Private room   50.0   \n",
      "\n",
      "       minimum_nights  number_of_reviews  reviews_per_month  \\\n",
      "10                  5                 53               0.43   \n",
      "20                  3                  9               0.07   \n",
      "25                  1                 19               1.37   \n",
      "48                  3                 11               0.10   \n",
      "62                  2                 66               0.57   \n",
      "...               ...                ...                ...   \n",
      "48899               4                  3               0.08   \n",
      "48900               3                 10               0.54   \n",
      "48901               1                  1               1.00   \n",
      "48902               3                 57               3.07   \n",
      "48903               7                  1               0.94   \n",
      "\n",
      "       calculated_host_listings_count  availability_365  \n",
      "10                                  1                 6  \n",
      "20                                  1                 0  \n",
      "25                                  2                85  \n",
      "48                                  1                 0  \n",
      "62                                  2               231  \n",
      "...                               ...               ...  \n",
      "48899                               1                 0  \n",
      "48900                               2                89  \n",
      "48901                               1               130  \n",
      "48902                               2                49  \n",
      "48903                               1               125  \n",
      "\n",
      "[19366 rows x 10 columns]\n"
     ]
    }
   ],
   "source": [
    "# Resolver acá\n",
    "import numpy as np\n",
    "import pandas as pd\n",
    "\n",
    "# Copia dataframe original\n",
    "df_airbnb_outliers = df_airbnb.copy()\n",
    "\n",
    "# Seleccionar columnas numericas\n",
    "numeric_columnas = df_airbnb_outliers.select_dtypes(include='number').columns\n",
    "\n",
    "# Diccionario para outliers detectados\n",
    "outliers_detectados = {}\n",
    "\n",
    "# IQR y los limites para cada columna\n",
    "for columna in numeric_columnas:\n",
    "    q1 = df_airbnb_outliers[columna].quantile(0.25)  # Primer cuartil\n",
    "    q3 = df_airbnb_outliers[columna].quantile(0.75)  # Tercer cuartil\n",
    "    iqr = q3 - q1  # Rango intercuartílico\n",
    "\n",
    "    # Definir limites inferior y superior\n",
    "    limite_inferior = q1 - 1.5 * iqr\n",
    "    limite_superior = q3 + 1.5 * iqr\n",
    "\n",
    "    # Identificar outliers\n",
    "    outliers_detectados[columna] = df_airbnb_outliers[(df_airbnb_outliers[columna] < limite_inferior) | \n",
    "                                                      (df_airbnb_outliers[columna] > limite_superior)][columna]\n",
    "\n",
    "# Mostrar outliers identificados para cada columna\n",
    "for columna, valores_outliers in outliers_detectados.items():\n",
    "    print(f\"Outliers en la columna '{columna}':\")\n",
    "    print(valores_outliers)\n",
    "    print(\"\\n\")\n",
    "\n",
    "# Eliminar outliers del dataframe\n",
    "for columna in numeric_columnas:\n",
    "    q1 = df_airbnb_outliers[columna].quantile(0.25)\n",
    "    q3 = df_airbnb_outliers[columna].quantile(0.75)\n",
    "    iqr = q3 - q1\n",
    "    limite_inferior = q1 - 1.5 * iqr\n",
    "    limite_superior = q3 + 1.5 * iqr\n",
    "\n",
    "    # Filtrar valores dentro de los limites\n",
    "    df_airbnb_outliers = df_airbnb_outliers[(df_airbnb_outliers[columna] >= limite_inferior) & \n",
    "                                            (df_airbnb_outliers[columna] <= limite_superior)]\n",
    "\n",
    "# Mostrar el dataframe sin outliers\n",
    "print(\"Dataframe después de eliminar outliers:\")\n",
    "print(df_airbnb_outliers)\n"
   ]
  },
  {
   "cell_type": "markdown",
   "metadata": {},
   "source": [
    "#### Ejercicio 8\n",
    "Partan la base en una base de prueba (test) y una de entrenamiento (train) utilizando el comando <code>train_test_split</code>. La base de entrenamiento debe comprender el 70% de los datos, y la semilla a utilizar (*random state instance*) debe ser 201. Establezca a price como su variable dependiente en la base de entrenamiento (vector y). El resto de las variables ser´an las variables independientes (matriz X). Recuerden agregar la columna de unos (1)."
   ]
  },
  {
   "cell_type": "code",
   "execution_count": 72,
   "metadata": {},
   "outputs": [
    {
     "name": "stdout",
     "output_type": "stream",
     "text": [
      "Número de observaciones en el conjunto de entrenamiento: 34233\n",
      "Número de observaciones en el conjunto de prueba: 14672\n"
     ]
    }
   ],
   "source": [
    "# Resolver acá\n",
    "from sklearn.model_selection import train_test_split\n",
    "\n",
    "# Crear columna de 1\n",
    "intercepto = np.ones((df_airbnb_outliers.shape[0], 1))  # Columna de 1\n",
    "X = df_airbnb_outliers.drop(columns=['price'])  # Seleccion variables independientes\n",
    "X = np.concatenate((intercepto, X.values), axis=1)  # Unir columna de 1 con el resto de las variables\n",
    "\n",
    "# Definir variable dependiente (y) como 'price'\n",
    "y = df_airbnb_outliers['price'].values  # Variable dependiente\n",
    "\n",
    "# Dividir datos en conjunto de entrenamiento (70%) y conjunto de prueba (30%)\n",
    "X_train, X_test, y_train, y_test = train_test_split(X, y, test_size=0.3, random_state=201)\n",
    "\n",
    "# Verificar tamaño de los conjuntos de entrenamiento y prueba\n",
    "print(f\"Número de observaciones en el conjunto de entrenamiento: {X_train.shape[0]}\")  # 70% de los datos\n",
    "print(f\"Número de observaciones en el conjunto de prueba: {X_test.shape[0]}\")  # 30% de los datos\n"
   ]
  },
  {
   "cell_type": "markdown",
   "metadata": {},
   "source": [
    "#### Ejercicio 9\n",
    "Implementen una regresión lineal y comenten los resultados obtenidos."
   ]
  },
  {
   "cell_type": "code",
   "execution_count": 82,
   "metadata": {},
   "outputs": [
    {
     "name": "stdout",
     "output_type": "stream",
     "text": [
      "Requirement already satisfied: pandas in c:\\users\\asus\\anaconda3\\lib\\site-packages (2.2.2)\n",
      "Requirement already satisfied: numpy in c:\\users\\asus\\anaconda3\\lib\\site-packages (1.26.4)\n",
      "Requirement already satisfied: scikit-learn in c:\\users\\asus\\anaconda3\\lib\\site-packages (1.4.2)\n",
      "Requirement already satisfied: matplotlib in c:\\users\\asus\\anaconda3\\lib\\site-packages (3.8.4)\n",
      "Requirement already satisfied: python-dateutil>=2.8.2 in c:\\users\\asus\\anaconda3\\lib\\site-packages (from pandas) (2.9.0.post0)\n",
      "Requirement already satisfied: pytz>=2020.1 in c:\\users\\asus\\anaconda3\\lib\\site-packages (from pandas) (2024.1)\n",
      "Requirement already satisfied: tzdata>=2022.7 in c:\\users\\asus\\anaconda3\\lib\\site-packages (from pandas) (2023.3)\n",
      "Requirement already satisfied: scipy>=1.6.0 in c:\\users\\asus\\anaconda3\\lib\\site-packages (from scikit-learn) (1.13.1)\n",
      "Requirement already satisfied: joblib>=1.2.0 in c:\\users\\asus\\anaconda3\\lib\\site-packages (from scikit-learn) (1.4.2)\n",
      "Requirement already satisfied: threadpoolctl>=2.0.0 in c:\\users\\asus\\anaconda3\\lib\\site-packages (from scikit-learn) (2.2.0)\n",
      "Requirement already satisfied: contourpy>=1.0.1 in c:\\users\\asus\\anaconda3\\lib\\site-packages (from matplotlib) (1.2.0)\n",
      "Requirement already satisfied: cycler>=0.10 in c:\\users\\asus\\anaconda3\\lib\\site-packages (from matplotlib) (0.11.0)\n",
      "Requirement already satisfied: fonttools>=4.22.0 in c:\\users\\asus\\anaconda3\\lib\\site-packages (from matplotlib) (4.51.0)\n",
      "Requirement already satisfied: kiwisolver>=1.3.1 in c:\\users\\asus\\anaconda3\\lib\\site-packages (from matplotlib) (1.4.4)\n",
      "Requirement already satisfied: packaging>=20.0 in c:\\users\\asus\\anaconda3\\lib\\site-packages (from matplotlib) (23.2)\n",
      "Requirement already satisfied: pillow>=8 in c:\\users\\asus\\anaconda3\\lib\\site-packages (from matplotlib) (10.3.0)\n",
      "Requirement already satisfied: pyparsing>=2.3.1 in c:\\users\\asus\\anaconda3\\lib\\site-packages (from matplotlib) (3.0.9)\n",
      "Requirement already satisfied: six>=1.5 in c:\\users\\asus\\anaconda3\\lib\\site-packages (from python-dateutil>=2.8.2->pandas) (1.16.0)\n",
      "Coeficientes: [-1.35823581e+02 -4.83808934e+02 -1.06676155e-01 -1.77439836e-01\n",
      " -2.61383455e-01 -7.46268228e-02  1.69108923e-01 -1.70606172e+01\n",
      "  3.00147504e+01  9.51465739e+00 -1.47770909e+02 -9.97109669e+01\n",
      " -1.32995989e+02]\n",
      "Intercepto: -30074.63004626571\n",
      "Error Cuadrático Medio: 35377.8962169837\n",
      "R^2: 0.11575888977779913\n",
      "El modelo tiene un ajuste moderado.\n"
     ]
    },
    {
     "data": {
      "image/png": "[encoded data removed]",
      "text/plain": [
       "<Figure size 1000x600 with 1 Axes>"
      ]
     },
     "metadata": {},
     "output_type": "display_data"
    }
   ],
   "source": [
    "# Resolver acá\n",
    "!pip install pandas numpy scikit-learn matplotlib\n",
    "import numpy as np\n",
    "import pandas as pd\n",
    "from sklearn.model_selection import train_test_split\n",
    "from sklearn.linear_model import LinearRegression\n",
    "from sklearn.metrics import mean_squared_error, r2_score\n",
    "import matplotlib.pyplot as plt\n",
    "\n",
    "# Asumiendo que df_airbnb_outliers ya está definido y no tiene NaN\n",
    "df_airbnb_outliers.dropna(inplace=True)  # Asegurarse de eliminar NaN\n",
    "\n",
    "# Definir la variable dependiente (y) y las variables independientes (X)\n",
    "y = df_airbnb_outliers['price']  # Variable dependiente\n",
    "X = df_airbnb_outliers.drop(columns=['price'])  # Variables independientes\n",
    "\n",
    "# Convertir variables categóricas a variables dummy\n",
    "X = pd.get_dummies(X, drop_first=True)\n",
    "\n",
    "# Dividir en conjunto de entrenamiento y prueba\n",
    "X_train, X_test, y_train, y_test = train_test_split(X, y, test_size=0.3, random_state=201)\n",
    "\n",
    "# Ajustar el modelo a los datos de entrenamiento\n",
    "modelo = LinearRegression()\n",
    "modelo.fit(X_train, y_train)\n",
    "\n",
    "# Realizar predicciones\n",
    "y_pred = modelo.predict(X_test)\n",
    "\n",
    "# Resultados del modelo\n",
    "print(\"Coeficientes:\", modelo.coef_)\n",
    "print(\"Intercepto:\", modelo.intercept_)\n",
    "\n",
    "# Evaluar el rendimiento del modelo\n",
    "mse = mean_squared_error(y_test, y_pred)\n",
    "r2 = r2_score(y_test, y_pred)\n",
    "\n",
    "print(f\"Error Cuadrático Medio: {mse}\")\n",
    "print(f\"R^2: {r2}\")\n",
    "\n",
    "# Comentarios sobre los resultados\n",
    "if r2 < 0.1:\n",
    "    print(\"El modelo no está capturando la varianza en los datos.\")\n",
    "elif r2 < 0.5:\n",
    "    print(\"El modelo tiene un ajuste moderado.\")\n",
    "else:\n",
    "    print(\"El modelo explica una buena proporción de la varianza en los datos.\")\n",
    "\n",
    "# Visualización de los resultados\n",
    "plt.figure(figsize=(10, 6))\n",
    "plt.scatter(y_test, y_pred, alpha=0.5)\n",
    "plt.plot([y_test.min(), y_test.max()], [y_test.min(), y_test.max()], 'r--', lw=2)\n",
    "plt.title('Predicciones vs Valores Reales')\n",
    "plt.xlabel('Valores Reales')\n",
    "plt.ylabel('Predicciones')\n",
    "plt.xlim([y_test.min(), y_test.max()])\n",
    "plt.ylim([y_test.min(), y_test.max()])\n",
    "plt.grid()\n",
    "plt.show()\n"
   ]
  }
 ],
 "metadata": {
  "anaconda-cloud": {},
  "colab": {
   "name": "TP1 - Parte 1.ipynb",
   "provenance": []
  },
  "kernelspec": {
   "display_name": "Python 3 (ipykernel)",
   "language": "python",
   "name": "python3"
  },
  "language_info": {
   "codemirror_mode": {
    "name": "ipython",
    "version": 3
   },
   "file_extension": ".py",
   "mimetype": "text/x-python",
   "name": "python",
   "nbconvert_exporter": "python",
   "pygments_lexer": "ipython3",
   "version": "3.12.4"
  }
 },
 "nbformat": 4,
 "nbformat_minor": 4
}
