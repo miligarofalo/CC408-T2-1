{
 "cells": [
  {
   "cell_type": "markdown",
   "metadata": {},
   "source": [
    "# Ciencia de datos (CC408) - Primavera 2024\n",
    "\n",
    "## Trabajo Práctico 1 - Parte 2"
   ]
  },
  {
   "cell_type": "markdown",
   "metadata": {},
   "source": [
    "### Reglas de formato y presentation\n",
    "- El trabajo debe tener una extensión máxima de 8 páginas (no se permite Apéndice). Se espera una buena redacción en la resolución del práctico.\n",
    "- El informe debe ser entregado en formato PDF, con los gráficos e imágenes en este mismo archivo.\n",
    "- Entregar el código con los comandos utilizados, identificando claramente a qué inciso corresponde cada comando."
   ]
  },
  {
   "cell_type": "markdown",
   "metadata": {
    "id": "ZEjGaa4U-c9g"
   },
   "source": [
    "### Fecha de entrega:\n",
    "Miércoles 2 de octubre a las 23:59 hs."
   ]
  },
  {
   "cell_type": "markdown",
   "metadata": {
    "id": "N9TU2y7E-c9h"
   },
   "source": [
    "### Modalidad de entrega\n",
    "- Al finalizar el trabajo práctico deben hacer un último <i>commit</i> en su repositorio de GitHub llamado “Entrega final del tp”. \n",
    "- Asegurense de haber creado una carpeta llamada TP1. Este Jupyter Notebook y el correspondiente al TP1 - Parte 2 deben estar dentro de esa carpeta.\n",
    "- También deben enviar el link de su repositorio -para que pueda ser clonado y corregido- al siguiente email: ispiousas@udesa.edu.ar\n",
    "- La última versión en el repositorio es la que será evaluada. Por lo que es importante que: \n",
    "    - No envien el correo hasta no haber terminado y estar seguros de que han hecho el <i>commit y push</i> a la versión final que quieren entregar. Debido a que se pueden tomar hasta 3 días de extensión a lo largo del curso, no se corregirán sus tareas hasta no recibir el correo.\n",
    "    - No hagan nuevos <i>push</i> despues de haber entregado su versión final. Esto generaría confusión acerca de que versión es la que quieren que se les corrija. "
   ]
  },
  {
   "cell_type": "markdown",
   "metadata": {},
   "source": [
    "### Parte I: Limpieza de la base"
   ]
  },
  {
   "cell_type": "markdown",
   "metadata": {
    "id": "ZXbrPraa-c9i"
   },
   "source": [
    "#### Ejercicio 1\n",
    "La base de datos provista contiene información sobre oferentes de Airbnb en la ciudad de Nueva York. Realicen una limpieza de la base.\n",
    "- Tengan en cuenta si hay valores duplicados y eliminénlos.\n",
    "- Eliminen las columnas que no tienen información de interés.\n",
    "- (Opcional) Luego de leer el artículo __[Missing-data imputation](https://bookdown.org/mike/data_analysis/imputation-missing-data.html##imputation-missing-data)__ (__[Missing-data imputation articulo alternativo](http://www.stat.columbia.edu/~gelman/arm/missing.pdf)__), decidan qué hacer con los missing values e implementen su decision. Justifiquen su eleccion. Pueden usar informacion del paper mencionado o de otras fuentes (citenlas si las usan) para explicar los problemas que pueden surgir por su estrategia elegida.\n",
    "- Si hay observaciones con *outliers* o valores que no tienen sentido, tomen una decision. Expliquen las decisiones tomadas.\n",
    "- Transformen las variables **‘neighbourhood_group’** y **‘room_type’** a variables numericas.\n",
    "- Con la ayuda de los comandos <code>groupby</code> y <code>join</code> o <code>merge</code>, creen una columna que tenga la cantidad de oferentes por “Neighbourhood group”. Llamen a esa nueva columna <code>offer group</code>"
   ]
  },
  {
   "cell_type": "code",
   "execution_count": 2,
   "metadata": {},
   "outputs": [
    {
     "data": {
      "text/html": [
       "<div>\n",
       "<style scoped>\n",
       "    .dataframe tbody tr th:only-of-type {\n",
       "        vertical-align: middle;\n",
       "    }\n",
       "\n",
       "    .dataframe tbody tr th {\n",
       "        vertical-align: top;\n",
       "    }\n",
       "\n",
       "    .dataframe thead th {\n",
       "        text-align: right;\n",
       "    }\n",
       "</style>\n",
       "<table border=\"1\" class=\"dataframe\">\n",
       "  <thead>\n",
       "    <tr style=\"text-align: right;\">\n",
       "      <th></th>\n",
       "      <th>neighbourhood_group</th>\n",
       "      <th>latitude</th>\n",
       "      <th>longitude</th>\n",
       "      <th>room_type</th>\n",
       "      <th>price</th>\n",
       "      <th>minimum_nights</th>\n",
       "      <th>number_of_reviews</th>\n",
       "      <th>reviews_per_month</th>\n",
       "      <th>calculated_host_listings_count</th>\n",
       "      <th>availability_365</th>\n",
       "    </tr>\n",
       "  </thead>\n",
       "  <tbody>\n",
       "    <tr>\n",
       "      <th>0</th>\n",
       "      <td>Brooklyn</td>\n",
       "      <td>40.64749</td>\n",
       "      <td>-73.97237</td>\n",
       "      <td>Private room</td>\n",
       "      <td>149.0</td>\n",
       "      <td>1</td>\n",
       "      <td>9</td>\n",
       "      <td>0.21</td>\n",
       "      <td>6</td>\n",
       "      <td>365</td>\n",
       "    </tr>\n",
       "    <tr>\n",
       "      <th>1</th>\n",
       "      <td>Manhattan</td>\n",
       "      <td>40.75362</td>\n",
       "      <td>-73.98377</td>\n",
       "      <td>Entire home/apt</td>\n",
       "      <td>225.0</td>\n",
       "      <td>1</td>\n",
       "      <td>45</td>\n",
       "      <td>0.38</td>\n",
       "      <td>2</td>\n",
       "      <td>355</td>\n",
       "    </tr>\n",
       "    <tr>\n",
       "      <th>2</th>\n",
       "      <td>Manhattan</td>\n",
       "      <td>40.80902</td>\n",
       "      <td>-73.94190</td>\n",
       "      <td>Private room</td>\n",
       "      <td>150.0</td>\n",
       "      <td>3</td>\n",
       "      <td>0</td>\n",
       "      <td>NaN</td>\n",
       "      <td>1</td>\n",
       "      <td>365</td>\n",
       "    </tr>\n",
       "  </tbody>\n",
       "</table>\n",
       "</div>"
      ],
      "text/plain": [
       "  neighbourhood_group  latitude  longitude        room_type  price  \\\n",
       "0            Brooklyn  40.64749  -73.97237     Private room  149.0   \n",
       "1           Manhattan  40.75362  -73.98377  Entire home/apt  225.0   \n",
       "2           Manhattan  40.80902  -73.94190     Private room  150.0   \n",
       "\n",
       "   minimum_nights  number_of_reviews  reviews_per_month  \\\n",
       "0               1                  9               0.21   \n",
       "1               1                 45               0.38   \n",
       "2               3                  0                NaN   \n",
       "\n",
       "   calculated_host_listings_count  availability_365  \n",
       "0                               6               365  \n",
       "1                               2               355  \n",
       "2                               1               365  "
      ]
     },
     "execution_count": 2,
     "metadata": {},
     "output_type": "execute_result"
    }
   ],
   "source": [
    "# Resolver acá\n",
    "import pandas as pd\n",
    "import os # Exportamos este módulo para trabajar con carpetas\n",
    "import csv\n",
    "\n",
    "base_dir = os.getcwd() # Construye la ruta relativa al archivo CSV desde el directorio actual\n",
    "csv_path = os.path.join(base_dir, 'Base Airbnb NY.csv')\n",
    "\n",
    "df_airbnb = pd.read_csv(csv_path)\n",
    "df_airbnb\n",
    "\n",
    "df_airbnb=df_airbnb.drop(columns=['id', 'name', 'host_id', 'host_name', 'neighbourhood', 'last_review'])\n",
    "df_airbnb.head(3)"
   ]
  },
  {
   "cell_type": "code",
   "execution_count": 4,
   "metadata": {},
   "outputs": [
    {
     "name": "stdout",
     "output_type": "stream",
     "text": [
      "neighbourhood_group                   0\n",
      "latitude                              0\n",
      "longitude                             0\n",
      "room_type                             0\n",
      "price                                15\n",
      "minimum_nights                        0\n",
      "number_of_reviews                     0\n",
      "reviews_per_month                 10053\n",
      "calculated_host_listings_count        0\n",
      "availability_365                      0\n",
      "dtype: int64\n",
      "neighbourhood_group               0\n",
      "latitude                          0\n",
      "longitude                         0\n",
      "room_type                         0\n",
      "price                             0\n",
      "minimum_nights                    0\n",
      "number_of_reviews                 0\n",
      "reviews_per_month                 0\n",
      "calculated_host_listings_count    0\n",
      "availability_365                  0\n",
      "dtype: int64\n"
     ]
    }
   ],
   "source": [
    "print(df_airbnb.isnull().sum())\n",
    "\n",
    "df_airbnb.fillna(df_airbnb.select_dtypes(include=['number']).median(), inplace=True) #Reemplazamos datos nulos con la mediana\n",
    "print(df_airbnb.isnull().sum())"
   ]
  },
  {
   "cell_type": "code",
   "execution_count": 5,
   "metadata": {},
   "outputs": [
    {
     "name": "stdout",
     "output_type": "stream",
     "text": [
      "Mapping de 'neighbourhood_group': {'Brooklyn': 0, 'Manhattan': 1, 'Queens': 2, 'Staten Island': 3, 'Bronx': 4}\n",
      "Mapping de 'room_type': {'Private room': 0, 'Entire home/apt': 1, 'Shared room': 2}\n"
     ]
    }
   ],
   "source": [
    "# CAMBIO DE VARIABLE A NUMERICA (HAY QUE VER PORQUE NO VA A FUNCIONAR LA ORDINALIDAD\n",
    "neighbourhood_mapping = {neighbourhood: idx for idx, neighbourhood in enumerate(df_airbnb['neighbourhood_group'].unique())}\n",
    "df_airbnb['neighbourhood_group'] = df_airbnb['neighbourhood_group'].map(neighbourhood_mapping)\n",
    "\n",
    "# Mapeo manual para 'room_type'\n",
    "room_mapping = {room_type: idx for idx, room_type in enumerate(df_airbnb['room_type'].unique())}\n",
    "df_airbnb['room_type'] = df_airbnb['room_type'].map(room_mapping)\n",
    "\n",
    "# Mostrar los mapeos\n",
    "print(\"Mapping de 'neighbourhood_group':\", neighbourhood_mapping)\n",
    "print(\"Mapping de 'room_type':\", room_mapping)"
   ]
  },
  {
   "cell_type": "code",
   "execution_count": null,
   "metadata": {},
   "outputs": [],
   "source": [
    "# SI SACAMOS OUTLIERS DIRECTAMENTE (HAY QUE VER SI LOS SACAMOS O LO DEJAMOS)\n",
    "\n",
    "df_airbnb_cleaned = df_airbnb[~df_airbnb.index.isin(outliers_multiple_indices)]\n",
    "\n",
    "# Verificar el tamaño del nuevo DataFrame\n",
    "print(f\"Número de filas después de eliminar outliers: {df_airbnb_cleaned.shape[0]}\")"
   ]
  },
  {
   "cell_type": "code",
   "execution_count": 6,
   "metadata": {},
   "outputs": [
    {
     "name": "stdout",
     "output_type": "stream",
     "text": [
      "   neighbourhood_group  offer_group\n",
      "0                    0        20107\n",
      "1                    1        21668\n",
      "2                    1        21668\n",
      "3                    0        20107\n",
      "4                    1        21668\n"
     ]
    }
   ],
   "source": [
    "# Cantidad de oferentes por “Neighbourhood group”.\n",
    "\n",
    "offer_counts = df_airbnb.groupby('neighbourhood_group').size().reset_index(name='offer_group')\n",
    "\n",
    "# Paso 2: Unir los conteos al DataFrame original\n",
    "df_airbnb = df_airbnb.merge(offer_counts, on='neighbourhood_group', how='left')\n",
    "\n",
    "# Mostrar el DataFrame resultante\n",
    "print(df_airbnb[['neighbourhood_group', 'offer_group']].head())"
   ]
  },
  {
   "cell_type": "markdown",
   "metadata": {},
   "source": [
    "### Parte II: Graficos y visualizaciones"
   ]
  },
  {
   "cell_type": "markdown",
   "metadata": {},
   "source": [
    "#### Ejercicio 2\n",
    "Una vez hecha la limpieza, realicen una matriz de correlación con las siguientes variables:**‘neighbourhood group’, ‘latitude’, ‘longitude’, ‘room type’,‘price’, ‘minimum nights’, ‘number of reviews’, ‘reviews per month’,‘calculated host listings count’, ‘availability 365’.** Comenten los resultados. Utilicen alguno de los comandos disponibles en este link para graficar la matriz de correlacion.\n",
    "\n",
    "*Nota:* consideren cómo es conveniente incluir las variables que originalmente eran categóricas para poder interpretar mejor la matriz de correlación."
   ]
  },
  {
   "cell_type": "code",
   "execution_count": 8,
   "metadata": {},
   "outputs": [
    {
     "name": "stdout",
     "output_type": "stream",
     "text": [
      "                                neighbourhood_group  latitude  longitude  \\\n",
      "neighbourhood_group                        1.000000  0.532846   0.281686   \n",
      "latitude                                   0.532846  1.000000   0.084761   \n",
      "longitude                                  0.281686  0.084761   1.000000   \n",
      "room_type                                 -0.004371 -0.002694  -0.160589   \n",
      "price                                      0.002701  0.033947  -0.149985   \n",
      "minimum_nights                            -0.000739  0.024861  -0.062730   \n",
      "number_of_reviews                          0.011476 -0.015368   0.059063   \n",
      "reviews_per_month                          0.085852 -0.014071   0.137126   \n",
      "calculated_host_listings_count             0.044511  0.019514  -0.114699   \n",
      "availability_365                           0.121283 -0.010602   0.080341   \n",
      "offer_group                               -0.728394 -0.038169  -0.573156   \n",
      "\n",
      "                                room_type     price  minimum_nights  \\\n",
      "neighbourhood_group             -0.004371  0.002701       -0.000739   \n",
      "latitude                        -0.002694  0.033947        0.024861   \n",
      "longitude                       -0.160589 -0.149985       -0.062730   \n",
      "room_type                        1.000000  0.205991        0.066763   \n",
      "price                            0.205991  1.000000        0.042813   \n",
      "minimum_nights                   0.066763  0.042813        1.000000   \n",
      "number_of_reviews               -0.022431 -0.047953       -0.080116   \n",
      "reviews_per_month               -0.029620 -0.036822       -0.109875   \n",
      "calculated_host_listings_count   0.096958  0.057367        0.127966   \n",
      "availability_365                 0.026499  0.081555        0.143221   \n",
      "offer_group                      0.103663  0.109400        0.046424   \n",
      "\n",
      "                                number_of_reviews  reviews_per_month  \\\n",
      "neighbourhood_group                      0.011476           0.085852   \n",
      "latitude                                -0.015368          -0.014071   \n",
      "longitude                                0.059063           0.137126   \n",
      "room_type                               -0.022431          -0.029620   \n",
      "price                                   -0.047953          -0.036822   \n",
      "minimum_nights                          -0.080116          -0.109875   \n",
      "number_of_reviews                        1.000000           0.568176   \n",
      "reviews_per_month                        0.568176           1.000000   \n",
      "calculated_host_listings_count          -0.072373          -0.027095   \n",
      "availability_365                         0.170132           0.164010   \n",
      "offer_group                             -0.043591          -0.121531   \n",
      "\n",
      "                                calculated_host_listings_count  \\\n",
      "neighbourhood_group                                   0.044511   \n",
      "latitude                                              0.019514   \n",
      "longitude                                            -0.114699   \n",
      "room_type                                             0.096958   \n",
      "price                                                 0.057367   \n",
      "minimum_nights                                        0.127966   \n",
      "number_of_reviews                                    -0.072373   \n",
      "reviews_per_month                                    -0.027095   \n",
      "calculated_host_listings_count                        1.000000   \n",
      "availability_365                                      0.223757   \n",
      "offer_group                                           0.061915   \n",
      "\n",
      "                                availability_365  offer_group  \n",
      "neighbourhood_group                     0.121283    -0.728394  \n",
      "latitude                               -0.010602    -0.038169  \n",
      "longitude                               0.080341    -0.573156  \n",
      "room_type                               0.026499     0.103663  \n",
      "price                                   0.081555     0.109400  \n",
      "minimum_nights                          0.143221     0.046424  \n",
      "number_of_reviews                       0.170132    -0.043591  \n",
      "reviews_per_month                       0.164010    -0.121531  \n",
      "calculated_host_listings_count          0.223757     0.061915  \n",
      "availability_365                        1.000000    -0.113445  \n",
      "offer_group                            -0.113445     1.000000  \n"
     ]
    }
   ],
   "source": [
    "# Resolver acá \n",
    "# EL PROBLEMA DE ESTE ES QUE LAS VARIABLES ANTES CATEGORICAS AHORA NUMERICAS SE ORDENAN. HAY Q EVITAR ESO\n",
    "\n",
    " # Reemplaza con tus columnas numéricas\n",
    "print(df_airbnb.corr())"
   ]
  },
  {
   "cell_type": "markdown",
   "metadata": {},
   "source": [
    "#### Ejercicio 3\n",
    "Respondan las siguientes preguntas: ¿Cuál es la proporción de oferentes por “Neighbourhood group”? ¿Y por tipo de habitación? Además, realicen gráficos para mostrar estas composiciones y comenten los resultados."
   ]
  },
  {
   "cell_type": "code",
   "execution_count": null,
   "metadata": {},
   "outputs": [],
   "source": [
    "# Resolver acá\n"
   ]
  },
  {
   "cell_type": "markdown",
   "metadata": {},
   "source": [
    "#### Ejercicio 4\n",
    "Realicen un histograma de los precios de los alojamientos. Comenten el gráfico obtenido. Además, respondan las siguientes preguntas: ¿cuál es el precio mínimo, máximo y promedio? ¿Cuál es la media de precio por “Neighbourhood group” y por tipo de habitación? "
   ]
  },
  {
   "cell_type": "code",
   "execution_count": null,
   "metadata": {},
   "outputs": [],
   "source": [
    "# Resolver acá\n"
   ]
  },
  {
   "cell_type": "markdown",
   "metadata": {},
   "source": [
    "#### Ejercicio 5\n",
    "Realicen dos scatter plots con dos variables de interés en cada uno. Comenten."
   ]
  },
  {
   "cell_type": "code",
   "execution_count": 1,
   "metadata": {},
   "outputs": [],
   "source": [
    "# Resolver acá\n"
   ]
  },
  {
   "cell_type": "markdown",
   "metadata": {},
   "source": [
    "#### Ejercicio 6\n",
    "Utilicen el análisis de componentes principales para graficar las variables en dos dimensiones. Comenten los resultados obtenidos (qué porcentaje de la varianza se logra explicar con dos componentes, cómo son los *loadings*, si ven algún patrón en el gráfico)."
   ]
  },
  {
   "cell_type": "code",
   "execution_count": 1,
   "metadata": {},
   "outputs": [],
   "source": [
    "# Resolver acá\n"
   ]
  },
  {
   "cell_type": "markdown",
   "metadata": {},
   "source": [
    "### Parte III: Predicción"
   ]
  },
  {
   "cell_type": "markdown",
   "metadata": {},
   "source": [
    "El objetivo de esta parte del trabajo es intentar predecir los precios de los alojamientos."
   ]
  },
  {
   "cell_type": "markdown",
   "metadata": {},
   "source": [
    "#### Ejercicio 7\n",
    "Eliminen de la base todas las variables relacionadas al precio"
   ]
  },
  {
   "cell_type": "code",
   "execution_count": null,
   "metadata": {},
   "outputs": [],
   "source": [
    "# Resolver acá\n"
   ]
  },
  {
   "cell_type": "markdown",
   "metadata": {},
   "source": [
    "#### Ejercicio 8\n",
    "Partan la base en una base de prueba (test) y una de entrenamiento (train) utilizando el comando <code>train_test_split</code>. La base de entrenamiento debe comprender el 70% de los datos, y la semilla a utilizar (*random state instance*) debe ser 201. Establezca a price como su variable dependiente en la base de entrenamiento (vector y). El resto de las variables ser´an las variables independientes (matriz X). Recuerden agregar la columna de unos (1)."
   ]
  },
  {
   "cell_type": "code",
   "execution_count": null,
   "metadata": {},
   "outputs": [],
   "source": [
    "# Resolver acá\n"
   ]
  },
  {
   "cell_type": "markdown",
   "metadata": {},
   "source": [
    "#### Ejercicio 9\n",
    "Implementen una regresión lineal y comenten los resultados obtenidos."
   ]
  },
  {
   "cell_type": "code",
   "execution_count": null,
   "metadata": {},
   "outputs": [],
   "source": [
    "# Resolver acá\n"
   ]
  }
 ],
 "metadata": {
  "anaconda-cloud": {},
  "colab": {
   "name": "TP1 - Parte 1.ipynb",
   "provenance": []
  },
  "kernelspec": {
   "display_name": "Python 3 (ipykernel)",
   "language": "python",
   "name": "python3"
  },
  "language_info": {
   "codemirror_mode": {
    "name": "ipython",
    "version": 3
   },
   "file_extension": ".py",
   "mimetype": "text/x-python",
   "name": "python",
   "nbconvert_exporter": "python",
   "pygments_lexer": "ipython3",
   "version": "3.12.3"
  }
 },
 "nbformat": 4,
 "nbformat_minor": 4
}
