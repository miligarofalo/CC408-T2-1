{
 "cells": [
  {
   "cell_type": "markdown",
   "metadata": {
    "collapsed": true,
    "id": "Dh8MkXaG-c9Y",
    "jupyter": {
     "outputs_hidden": true
    }
   },
   "source": [
    "# Ciencia de datos (CC408) - Primavera 2024\n",
    "\n",
    "## Trabajo Práctico 1 - Parte 1 "
   ]
  },
  {
   "cell_type": "markdown",
   "metadata": {
    "id": "RhBlm6mZ-c9e"
   },
   "source": [
    "### Reglas de formato y presentación\n",
    "- El trabajo debe estar debidamente documentado comentado (utilizando #) para que tanto los docentes como sus compañeros puedan comprender el código fácilmente.\n",
    "\n",
    "- El mismo debe ser completado en este Jupyter Notebook y entregado como tal, es decir en un archivo .ipynb\n"
   ]
  },
  {
   "cell_type": "markdown",
   "metadata": {
    "id": "ZEjGaa4U-c9g"
   },
   "source": [
    "### Fecha de entrega:\n",
    "Domingo 8 de septiembre a las 23:59hs"
   ]
  },
  {
   "cell_type": "markdown",
   "metadata": {
    "id": "N9TU2y7E-c9h"
   },
   "source": [
    "### Modalidad de entrega\n",
    "- Al finalizar el trabajo práctico deben hacer un último <i>commit</i> en su repositorio de GitHub llamado “Entrega final del tp”. \n",
    "- Asegurense de haber creado una carpeta llamada TP1. Este Jupyter Notebook y el correspondiente al TP1 - Parte 1 deben estar dentro de esa carpeta.\n",
    "- También deben enviar el link de su repositorio -para que pueda ser clonado y corregido- al siguiente email: ispiousas@udesa.edu.ar\n",
    "- La última versión en el repositorio es la que será evaluada. Por lo que es importante que: \n",
    "    - No envien el correo hasta no haber terminado y estar seguros de que han hecho el <i>commit y push</i> a la versión final que quieren entregar. Debido a que se pueden tomar hasta 3 días de extensión a lo largo del curso, no se corregirán sus tareas hasta no recibir el correo.\n",
    "    - No hagan nuevos <i>push</i> despues de haber entregado su versión final. Esto generaría confusión acerca de que versión es la que quieren que se les corrija. "
   ]
  },
  {
   "cell_type": "markdown",
   "metadata": {
    "id": "ZXbrPraa-c9i"
   },
   "source": [
    "#### Ejercicio 1\n",
    "Este ejercicio simplemente busca repasar lo que aprendimos sobre definición de variables. Definir dos variables con un nombre combinado (al menos dos palabras), una que se pueda crear y otra que tenga un nombre inaceptable (genera error). Explicar por qué ocurre el error."
   ]
  },
  {
   "cell_type": "code",
   "execution_count": 6,
   "metadata": {
    "id": "mb7PkXfN-c9j"
   },
   "outputs": [
    {
     "ename": "SyntaxError",
     "evalue": "invalid decimal literal (1995028322.py, line 7)",
     "output_type": "error",
     "traceback": [
      "\u001b[1;36m  Input \u001b[1;32mIn [6]\u001b[1;36m\u001b[0m\n\u001b[1;33m    1primera_variable = 1000\u001b[0m\n\u001b[1;37m    ^\u001b[0m\n\u001b[1;31mSyntaxError\u001b[0m\u001b[1;31m:\u001b[0m invalid decimal literal\n"
     ]
    }
   ],
   "source": [
    "# Caso A\n",
    "primera_variable = 1000\n",
    "print(primera_variable)\n",
    "\n",
    "# Caso B (acá debería saltar un error)\n",
    "\n",
    "1primera_variable = 1000\n",
    "\n",
    "#el error \"SyntaxError\" ocurre porque se nombra a la varible comenzando por un número, cosa que no debe ocurrir."
   ]
  },
  {
   "cell_type": "markdown",
   "metadata": {},
   "source": [
    "#### Ejercicio 2\n",
    "Importar módulos. Usando el módulo math impriman la tangente de 1. ¿Cuál es el resultado?\n",
    "Hagan este cálculo de dos formas: primero importando el módulo math y usando la función correspondiente y luego solo importando la función específica que precisan para el cálculo."
   ]
  },
  {
   "cell_type": "code",
   "execution_count": 7,
   "metadata": {},
   "outputs": [
    {
     "name": "stdout",
     "output_type": "stream",
     "text": [
      "1.5574077246549023\n",
      "1.5574077246549023\n"
     ]
    }
   ],
   "source": [
    "# Caso A\n",
    "#importamos la librería math que contiene la función tan\n",
    "import math\n",
    "\n",
    "tangente = math.tan(1)\n",
    "print(tangente)\n",
    "\n",
    "# Caso B\n",
    "#importamos solo la función tan\n",
    "from math import tan\n",
    "\n",
    "tangente2 = tan(1)\n",
    "print(tangente2)"
   ]
  },
  {
   "cell_type": "markdown",
   "metadata": {
    "id": "GlNh0fyv-c9l"
   },
   "source": [
    "#### Ejercicio 3 \n",
    "Este ejercicio trata sobre lograr el intercambio de valores entre dos variables utilizando una variable temporal para hacerlo. Las variables temporales y la sustitución de valores termina siendo útil en algunos loops. Los pasos a seguir son: (a) definir variables A y B (cuyos valores buscaremos invertir); (b) definir una variable temporal que resguarde el valor de B; (c) sustitución (asignar B igual a A y también A igual al valor original de B); (d) imprimir valores para verificar."
   ]
  },
  {
   "cell_type": "code",
   "execution_count": 9,
   "metadata": {
    "id": "uWalSYFC-c9m"
   },
   "outputs": [
    {
     "name": "stdout",
     "output_type": "stream",
     "text": [
      "El valor de A después del intercambio es: 2\n",
      "El valor de B después del intercambio es: 1\n"
     ]
    }
   ],
   "source": [
    "# a) Definir variables A y B, \n",
    "a = 1\n",
    "b = 2\n",
    "\n",
    "# b) Definir variable temporal \"tmp\" igual a B (la variable, no el valor)\n",
    "tmp = b\n",
    "\n",
    "# c) Ahora sustituir variables: variable B igual a variable A (la variable, no el\n",
    "# valor) y viceversa.\n",
    "b = a  #Asigno a b el valor de a\n",
    "a = tmp  #Asigno a a el valor que estaba en b (guardado en \"temporal\")\n",
    "\n",
    "\n",
    "# d) Verifiquemos resultados: imprimir variables A y B\n",
    "print(\"El valor de A después del intercambio es:\", a)\n",
    "print(\"El valor de B después del intercambio es:\", b)"
   ]
  },
  {
   "cell_type": "markdown",
   "metadata": {
    "id": "wXhAaRyN-c9p"
   },
   "source": [
    "#### Ejercicio 4\n",
    "En este ejercicio se busca poner en práctica el uso de range() en un for loop. \n",
    "\n",
    "Construir un for loop usando un range(). El range debe ser entre los valores que quieran (con una diferencia mínima de 15 entre start y stop), en incrementos de 3 unidades. Dentro del loop, implementar una sentencia condicional que imprima una leyenda indicando si el input es par o impar."
   ]
  },
  {
   "cell_type": "code",
   "execution_count": 22,
   "metadata": {
    "id": "_oE5sG0c-c9q"
   },
   "outputs": [
    {
     "name": "stdout",
     "output_type": "stream",
     "text": [
      "1 Es número impar\n",
      "4 Es número par\n",
      "7 Es número impar\n",
      "10 Es número par\n",
      "13 Es número impar\n",
      "16 Es número par\n"
     ]
    }
   ],
   "source": [
    "# Resolver acá\n",
    "\n",
    "for i in range(1,17,3): #del rango 1 al 17 sin incluir pasando de a tres. #Start = 1 stop = 17 diferencia de 16  step = 3 se incrementan 3 unidades\n",
    "    if(i % 2 == 0):   # Si es divisible por dos es par\n",
    "        print(i, \"Es número par\")\n",
    "    else:                        #Si no lo es, entonces es impar\n",
    "        print(i, \"Es número impar\")"
   ]
  },
  {
   "cell_type": "markdown",
   "metadata": {
    "id": "h3g5bXUB-c9u"
   },
   "source": [
    "#### Ejercicio 5\n",
    "Para practicar el uso de condiciones lógicas y la definición de funciones, construir una función con una sentencia condicional que verifique si un año es bisiesto o no. Para que un año sea bisiesto debe cumplir una de dos condiciones:\n",
    "\n",
    "(a) que sea divisible por 400; o\n",
    "\n",
    "(b) que sea divisible por 4 y no sea divisible por 100\n",
    "\n",
    "Notar que son dos condiciones, donde la segunda condición tiene dos componentes. Prueben la función con 3 valores para verificar que funcione."
   ]
  },
  {
   "cell_type": "code",
   "execution_count": 12,
   "metadata": {
    "id": "7_MnILdz-c9v"
   },
   "outputs": [
    {
     "name": "stdout",
     "output_type": "stream",
     "text": [
      "El año 2024 es bisiesto.\n",
      "El año 1900 no es bisiesto.\n",
      "El año 2000 es bisiesto.\n"
     ]
    }
   ],
   "source": [
    "# Resolver acá\n",
    "\n",
    "# Defino la función para verificar si un año es bisiesto\n",
    "\n",
    "def es_bisiesto(anio):\n",
    "    # Verifique las dos condiciones\n",
    "    if (anio % 400 == 0) or (anio % 4 == 0 and anio % 100 != 0):\n",
    "        return True  # El año es bisiesto\n",
    "    else:\n",
    "        return False  # El año no es bisiesto\n",
    "\n",
    "# Pruebo la función con 3 valores\n",
    "anios_a_probar = [2024, 1900, 2000]\n",
    "\n",
    "for anio in anios_a_probar:\n",
    "    if es_bisiesto(anio):\n",
    "        print(f\"El año {anio} es bisiesto.\")\n",
    "    else:\n",
    "        print(f\"El año {anio} no es bisiesto.\")"
   ]
  },
  {
   "cell_type": "markdown",
   "metadata": {
    "collapsed": true,
    "id": "P3a7bJkd-c9w",
    "jupyter": {
     "outputs_hidden": true
    }
   },
   "source": [
    "#### Ejercicio 6 \n",
    "Pongamos en práctica identificar el type() de cada variable. A continuación tenemos una lista con elementos de diferentes tipos. Construyan un for loop que itere sobre la lista e imprima un cartel indicando el tipo de dato u objeto que hay en cada caso."
   ]
  },
  {
   "cell_type": "code",
   "execution_count": 13,
   "metadata": {
    "id": "jDf4d_Wr-c9w"
   },
   "outputs": [],
   "source": [
    "mi_lista = [10, 34.5, 99999, 'abc', [1,2,3], ('ARG', 1810), {'pob': 45}, True]"
   ]
  },
  {
   "cell_type": "code",
   "execution_count": 14,
   "metadata": {
    "id": "SAJgEiNEFQAS"
   },
   "outputs": [
    {
     "name": "stdout",
     "output_type": "stream",
     "text": [
      "El elemento 10 es de tipo <class 'int'>.\n",
      "El elemento 34.5 es de tipo <class 'float'>.\n",
      "El elemento 99999 es de tipo <class 'int'>.\n",
      "El elemento abc es de tipo <class 'str'>.\n",
      "El elemento [1, 2, 3] es de tipo <class 'list'>.\n",
      "El elemento ('ARG', 1810) es de tipo <class 'tuple'>.\n",
      "El elemento {'pob': 45} es de tipo <class 'dict'>.\n",
      "El elemento True es de tipo <class 'bool'>.\n"
     ]
    }
   ],
   "source": [
    "# Resolver acá\n",
    "\n",
    "# Iterar sobre la lista e imprimir cartel indicando\n",
    "for elemento in mi_lista:\n",
    "    print(f\"El elemento {elemento} es de tipo {type(elemento)}.\")"
   ]
  },
  {
   "cell_type": "markdown",
   "metadata": {
    "id": "y1lncitl-c9x"
   },
   "source": [
    "#### Ejercicio 7\n",
    "Ahora definan ustedes una nueva lista, en la que los primeros cuatro elementos sean palabras (strings), el quinto elemento no sea string, y el sexto sea string. Construyan un for loop que corra por la lista y que imprima la palabra y la longitud de la misma. Que el loop contenga una sentencia condicional que imprima un cartel \"Elemento no es un string: < el elemento > | < class del elemento >\" para los casos dónde el elemento evaluado no sea string."
   ]
  },
  {
   "cell_type": "code",
   "execution_count": 17,
   "metadata": {
    "id": "bFOk9Os0-c9x"
   },
   "outputs": [
    {
     "name": "stdout",
     "output_type": "stream",
     "text": [
      "hola Tiene 4 letras\n",
      "que Tiene 3 letras\n",
      "ahre Tiene 4 letras\n",
      "aneursima Tiene 9 letras\n",
      "Elemento no es un string: 14 <class 'int'>\n",
      "electroencefalograma Tiene 20 letras\n"
     ]
    }
   ],
   "source": [
    "# Resolver acá\n",
    "nueva_lista = [\"hola\", \"que\",\"ahre\",\"aneursima\",14, \"electroencefalograma\"]\n",
    "\n",
    "for i in nueva_lista:\n",
    "  if(type(i) == str):\n",
    "    print(i,\"Tiene\", len(i),\"letras\")\n",
    "  else:\n",
    "    print(\"Elemento no es un string:\",i, type(i))"
   ]
  },
  {
   "cell_type": "markdown",
   "metadata": {},
   "source": [
    "#### Ejercicio 8"
   ]
  },
  {
   "cell_type": "markdown",
   "metadata": {},
   "source": [
    "Construyan una función llamada 'suma' que tome una cantidad variable de parámetros y devuelva el resultado de la suma."
   ]
  },
  {
   "cell_type": "code",
   "execution_count": 18,
   "metadata": {},
   "outputs": [
    {
     "name": "stdout",
     "output_type": "stream",
     "text": [
      "17\n"
     ]
    }
   ],
   "source": [
    "# Resolver acá\n",
    "def suma(*args):\n",
    "    return(sum(args))\n",
    "\n",
    "\n",
    "print(suma(3,4,5,3,2))"
   ]
  },
  {
   "cell_type": "markdown",
   "metadata": {
    "id": "PUpxDz72-c9x"
   },
   "source": [
    "#### Ejercicio 9\n",
    "Argentina tiene una representación legislativa proporcional en la cual la cantidad de diputados se debería ajustar según el tamaño de población de cada provincia. Otra característica de la representación legislativa del país es que hay una cantidad mínima de diputados por provincia (5). Esto genera un desbalance en la cantidad de ciudadanos por cada representante en el Congreso entre provincias.\n",
    "\n",
    "A continuación preparamos algunos ejemplos, dividiendo la población de cada provincia (según estimación para el 2022) por la cantidad de representantes en el Congreso para esa misma jurisdicción. También armamos el equivalente para el total país y una lista con los valores provinciales.\n",
    "\n",
    "En este ejercicio les pedimos que construyan un for loop que itere sobre el diccionario definido y compare cada valor provincial contra el valor de proporcionalidad directa (la variable argentina). El loop debe imprimir una leyenda que indique si la provincia está sobrerepresentada, subrepresentada o con representación proporcional. Además, queremos que el mismo loop compare los valores de las provincias sobrerepresentadas y que guarde el valor de la provincia con mayor sobrerepresentación. Luego del loop impriman este valor así podemos ver que haya funcionado.\n",
    "\n",
    "Fuente para población: https://es.wikipedia.org/wiki/Demograf%C3%ADa_de_Argentina\n",
    "\n",
    "Fuente para representantes: https://es.wikipedia.org/wiki/C%C3%A1mara_de_Diputados_de_la_Naci%C3%B3n_Argentina"
   ]
  },
  {
   "cell_type": "code",
   "execution_count": 18,
   "metadata": {
    "id": "hd8Z5AHs-c9y"
   },
   "outputs": [],
   "source": [
    "# Valor de referencia: proporcionalidad\n",
    "argentina = 46044703 / 257\n",
    "\n",
    "# Creamos variables para una selección de jurisdicciones\n",
    "cordoba = 3978984 / 18\n",
    "santa_fe = 3556522 / 19\n",
    "mendoza = 2014533 / 10\n",
    "buenos_aires = 17569053 / 70\n",
    "entre_rios =  1426426 / 9\n",
    "santa_cruz = 333473 / 5\n",
    "formosa = 606041 / 5\n",
    "\n",
    "# Definimos el diccionario para iterar\n",
    "dict_provincias = {\n",
    "    \"Córdoba\": cordoba,\n",
    "    \"Santa Fe\": santa_fe,\n",
    "    \"Mendoza\": mendoza,\n",
    "    \"Buenos Aires\": buenos_aires,\n",
    "    \"Entre Ríos\": entre_rios,\n",
    "    \"Santa Cruz\": santa_cruz,\n",
    "    \"Formosa\": formosa\n",
    "}"
   ]
  },
  {
   "cell_type": "code",
   "execution_count": 19,
   "metadata": {
    "id": "fsEHnxiY-c9y",
    "scrolled": true
   },
   "outputs": [
    {
     "name": "stdout",
     "output_type": "stream",
     "text": [
      "La provincia Córdoba está subrepresentada\n",
      "La provincia Santa Fe está aproximadamente proporcional\n",
      "La provincia Mendoza está subrepresentada\n",
      "La provincia Buenos Aires está subrepresentada\n",
      "La provincia Entre Ríos está sobrerrepresentada\n",
      "La provincia Santa Cruz está sobrerrepresentada\n",
      "La provincia Formosa está sobrerrepresentada\n",
      "\n",
      "La provincia con mayor sobrerepresentación es Santa Cruz con una diferencia de 112467.67 ciudadanos por representante.\n"
     ]
    }
   ],
   "source": [
    "# Resolver acá\n",
    "\n",
    "margen_tolerancia = 0.05 * argentina #Hay un margen para ver si la provincia esta bien representada\n",
    "mayor_sobrerrepresentacion = 0 #Incializo la varible que va a guardar el valor de la provincia con mas sobrerepresentacion\n",
    "provincia_mayor_sobrerrepresentacion = \"\" #Inicializo la varibale que va a guardar la provincia con mayor sobrerepresentacion\n",
    "\n",
    "for provincia, valor_provincial in dict_provincias.items():\n",
    "    if valor_provincial < argentina - margen_tolerancia: \n",
    "        estado = \"sobrerrepresentada\"\n",
    "        sobrerrepresentacion = argentina - valor_provincial\n",
    "        #Ahora comparo si es la mas sobrerrepresentada y en caso afirmativo guardo la informacion en las variables auxiliares\n",
    "        if sobrerrepresentacion > mayor_sobrerrepresentacion: #actualizo los valores si esto es verdadero\n",
    "            mayor_sobrerrepresentacion = sobrerrepresentacion\n",
    "            provincia_mayor_sobrerrepresentacion = provincia \n",
    "\n",
    "    elif valor_provincial > argentina + margen_tolerancia:\n",
    "        estado = \"subrepresentada\"\n",
    "\n",
    "    else:\n",
    "        estado = \"aproximadamente proporcional\"\n",
    "\n",
    "    print(f\"La provincia {provincia} está {estado}\") #imprimo las provincias y su estado cuando recorro el diccionario\n",
    "\n",
    "\n",
    "\n",
    "print()\n",
    "\n",
    "if provincia_mayor_sobrerrepresentacion != 0: #se imprime la provincia con mayor sobrerrepresentación si es que la hay\n",
    "    print(f\"La provincia con mayor sobrerepresentación es {provincia_mayor_sobrerrepresentacion} con una diferencia de {mayor_sobrerrepresentacion:.2f} ciudadanos por representante.\")\n",
    "else:\n",
    "    print(\"No se encontró ninguna provincia sobrerrepresentada.\")"
   ]
  },
  {
   "cell_type": "markdown",
   "metadata": {
    "id": "GokZe5tV-c9z"
   },
   "source": [
    "#### Ejercicio 10\n",
    "Si buscáramos minimizar la subrepresentación de la provincia de Buenos Aires, ¿cuántos representantes debería tener según el Censo 2022? Usemos el mismo criterio de sub/sobrerepresentacion que en el ejercicio anterior: población sobre cantidad de representantes.\n",
    "\n",
    "Para responder esta pregunta construyan un while loop que incremente de a uno la cantidad de representantes de la Provincia hasta minimizar la subrepresentación. En cada iteración impriman un cartel que diga: \"Se agregó un representante, el total ahora es X\" dónde X es el número de representantes simulado."
   ]
  },
  {
   "cell_type": "code",
   "execution_count": 15,
   "metadata": {
    "id": "x9DvuXa_-c9z"
   },
   "outputs": [],
   "source": [
    "# Estos son los valores de la provincia\n",
    "representantes_pba = 70\n",
    "poblacion2010_pba = 17594428\n",
    "\n",
    "\n",
    "# Y el valor de referencia nacional\n",
    "argentina = 46044703 / 257"
   ]
  },
  {
   "cell_type": "code",
   "execution_count": 16,
   "metadata": {},
   "outputs": [
    {
     "name": "stdout",
     "output_type": "stream",
     "text": [
      "Se agregó un representante, el total ahora es 71\n",
      "Se agregó un representante, el total ahora es 72\n",
      "Se agregó un representante, el total ahora es 73\n",
      "Se agregó un representante, el total ahora es 74\n",
      "Se agregó un representante, el total ahora es 75\n",
      "Se agregó un representante, el total ahora es 76\n",
      "Se agregó un representante, el total ahora es 77\n",
      "Se agregó un representante, el total ahora es 78\n",
      "Se agregó un representante, el total ahora es 79\n",
      "Se agregó un representante, el total ahora es 80\n",
      "Se agregó un representante, el total ahora es 81\n",
      "Se agregó un representante, el total ahora es 82\n",
      "Se agregó un representante, el total ahora es 83\n",
      "Se agregó un representante, el total ahora es 84\n",
      "Se agregó un representante, el total ahora es 85\n",
      "Se agregó un representante, el total ahora es 86\n",
      "Se agregó un representante, el total ahora es 87\n",
      "Se agregó un representante, el total ahora es 88\n",
      "Se agregó un representante, el total ahora es 89\n",
      "Se agregó un representante, el total ahora es 90\n",
      "Se agregó un representante, el total ahora es 91\n",
      "Se agregó un representante, el total ahora es 92\n",
      "Se agregó un representante, el total ahora es 93\n",
      "Se agregó un representante, el total ahora es 94\n",
      "Se agregó un representante, el total ahora es 95\n",
      "Se agregó un representante, el total ahora es 96\n",
      "Se agregó un representante, el total ahora es 97\n",
      "Se agregó un representante, el total ahora es 98\n",
      "Se agregó un representante, el total ahora es 99\n",
      "Provincia de Buenos Aires deberia tener: 99 representantes\n"
     ]
    }
   ],
   "source": [
    "# Resolver acá\n",
    "\n",
    "while ((poblacion2010_pba/representantes_pba) > argentina): #Mientras haya subrepresentacion hace lo que dice el while\n",
    "  representantes_pba = representantes_pba+1   #agrega un representante y sobreescribi la variable representantes_pba para actualizarla\n",
    "  print(\"Se agregó un representante, el total ahora es\",representantes_pba) #Imprimir cuanto vale ahora la variable representantes_pba\n",
    "\n",
    "\n",
    "print(\"Provincia de Buenos Aires deberia tener:\", representantes_pba,\"representantes\") # Cuando ya no haya subrepresentacion (salga del ciclo) imprimi el valor de la variable de representantes_pba"
   ]
  }
 ],
 "metadata": {
  "anaconda-cloud": {},
  "colab": {
   "name": "TP1 - Parte 1.ipynb",
   "provenance": []
  },
  "kernelspec": {
   "display_name": "Python 3 (ipykernel)",
   "language": "python",
   "name": "python3"
  },
  "language_info": {
   "codemirror_mode": {
    "name": "ipython",
    "version": 3
   },
   "file_extension": ".py",
   "mimetype": "text/x-python",
   "name": "python",
   "nbconvert_exporter": "python",
   "pygments_lexer": "ipython3",
   "version": "3.10.11"
  }
 },
 "nbformat": 4,
 "nbformat_minor": 4
}
